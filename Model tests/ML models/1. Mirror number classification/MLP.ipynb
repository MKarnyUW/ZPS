{
 "cells": [
  {
   "cell_type": "markdown",
   "id": "cf420a35",
   "metadata": {},
   "source": [
    "# I. Mirror number classification\n",
    "### 1) MLP (multilayer perceptron) network"
   ]
  },
  {
   "cell_type": "markdown",
   "id": "a150a509",
   "metadata": {},
   "source": [
    "*Based on: https://machinelearningmastery.com/tutorial-first-neural-network-python-keras/*\n",
    "\n",
    "Here we implement our first ML model for the basic task of classifying the number of mirrors in the system, based on the interference pattern. We start with a simple deep neural network - an MLP - which consists of several fully connected layers. "
   ]
  },
  {
   "cell_type": "code",
   "execution_count": 1,
   "id": "47014f4d",
   "metadata": {},
   "outputs": [],
   "source": [
    "# necessary imports\n",
    "\n",
    "import tensorflow as tf\n",
    "from tensorflow import keras\n",
    "from keras.models import Sequential\n",
    "from keras.layers import Dense\n",
    "from numpy import loadtxt\n",
    "import numpy as np\n",
    "import matplotlib.pyplot as plt"
   ]
  },
  {
   "cell_type": "markdown",
   "id": "2e3da4ca",
   "metadata": {},
   "source": [
    "The input data is in the form of a CSV file, where each row has numbers separated by commas. The first value signifies the number of mirrors present in the system; subsequent numbers are the values of total transmittance for equally spaced wavenumbers k. The number of k values is constant through all the rows and depends on the generated data - the more k values, the more dense the probing of the k-space."
   ]
  },
  {
   "cell_type": "markdown",
   "id": "8a8fcf52",
   "metadata": {},
   "source": [
    "Let us load the dataset and visualize some interference pattern."
   ]
  },
  {
   "cell_type": "code",
   "execution_count": 2,
   "id": "2cba9bcf",
   "metadata": {},
   "outputs": [],
   "source": [
    "dataset = loadtxt('data50.csv', delimiter=',', skiprows=1)\n",
    "\n",
    "# number of k samples\n",
    "k_samples = 50\n",
    "\n",
    "# mirror numbers (the correct classes) in the first column\n",
    "y = dataset[:,0]\n",
    "\n",
    "# convenient to have the classes starting from 0, so just subtract 3 from every y\n",
    "y -= 3\n",
    "\n",
    "# transmittance values\n",
    "X = dataset[:,1:]"
   ]
  },
  {
   "cell_type": "code",
   "execution_count": 3,
   "id": "35f6896c",
   "metadata": {},
   "outputs": [
    {
     "data": {
      "image/png": "[encoded data removed]",
      "text/plain": [
       "<Figure size 432x288 with 1 Axes>"
      ]
     },
     "metadata": {
      "needs_background": "light"
     },
     "output_type": "display_data"
    }
   ],
   "source": [
    "# k-space for plotting\n",
    "kmin = 0\n",
    "kmax = 10\n",
    "ks = np.linspace(kmin, kmax, k_samples)\n",
    "\n",
    "which_row = 10000\n",
    "\n",
    "plt.figure()\n",
    "plt.plot(ks, X[which_row], label=f'{y[which_row]+3} mirrors')\n",
    "plt.legend(loc='best')\n",
    "plt.show()"
   ]
  },
  {
   "cell_type": "markdown",
   "id": "71b359c3",
   "metadata": {},
   "source": [
    "We will now split the dataset randomly into the training and test parts, borrowing a function from the scikit-learn package."
   ]
  },
  {
   "cell_type": "code",
   "execution_count": 4,
   "id": "d10e6276",
   "metadata": {},
   "outputs": [
    {
     "name": "stdout",
     "output_type": "stream",
     "text": [
      "Proportion of 3-mirror elements in the testing set: 0.0018492804028186927\n",
      "Proportion of 3-mirror elements in the testing set: 0.00184928440263788\n"
     ]
    }
   ],
   "source": [
    "from sklearn.model_selection import train_test_split\n",
    "X_train, X_test, y_train, y_test = train_test_split(X, y,\n",
    "                                                    stratify = y, \n",
    "                                                    test_size = 0.25)\n",
    "\n",
    "# the 'stratify = y' argument ensures that the training and testing sets contain the same proportion of each class\n",
    "# we especially need to watch out for this for the lowest number of mirrors \n",
    "# which forms a tiny proportion of the whole dataset:\n",
    "\n",
    "print('Proportion of 3-mirror elements in the testing set:', list(y_test).count(0) / len(y_test))\n",
    "print('Proportion of 3-mirror elements in the testing set:', list(y_train).count(0) / len(y_train))"
   ]
  },
  {
   "cell_type": "markdown",
   "id": "6c463f07",
   "metadata": {},
   "source": [
    "Checks out. Let us build the network now (with the sizes of hidden layers chosen arbitrarily)."
   ]
  },
  {
   "cell_type": "code",
   "execution_count": 5,
   "id": "ccce245c",
   "metadata": {},
   "outputs": [],
   "source": [
    "# Define the model\n",
    "model = Sequential()\n",
    "model.add(Dense(24, input_dim=k_samples, activation='relu'))\n",
    "model.add(Dense(12, activation='relu'))\n",
    "model.add(Dense(8, activation='sigmoid'))\n",
    "\n",
    "# The last layer consists of 8 nodes as we generated the data for 3 to 10 mirrors."
   ]
  },
  {
   "cell_type": "markdown",
   "id": "de3daadd",
   "metadata": {},
   "source": [
    "Now we compile it."
   ]
  },
  {
   "cell_type": "code",
   "execution_count": 6,
   "id": "151845f2",
   "metadata": {},
   "outputs": [],
   "source": [
    "model.compile(loss='sparse_categorical_crossentropy', optimizer='adam', metrics=['sparse_categorical_accuracy'])"
   ]
  },
  {
   "cell_type": "markdown",
   "id": "637265f3",
   "metadata": {},
   "source": [
    "Set necessary prerequisites and train, using the testing data for validation."
   ]
  },
  {
   "cell_type": "code",
   "execution_count": 7,
   "id": "8bb6b536",
   "metadata": {},
   "outputs": [
    {
     "name": "stdout",
     "output_type": "stream",
     "text": [
      "Epoch 1/100\n",
      "46235/46235 [==============================] - 43s 912us/step - loss: 1.0592 - sparse_categorical_accuracy: 0.5285 - val_loss: 0.8833 - val_sparse_categorical_accuracy: 0.6073\n",
      "Epoch 2/100\n",
      "46235/46235 [==============================] - 43s 922us/step - loss: 0.7698 - sparse_categorical_accuracy: 0.6674 - val_loss: 0.6621 - val_sparse_categorical_accuracy: 0.7167\n",
      "Epoch 3/100\n",
      "46235/46235 [==============================] - 42s 919us/step - loss: 0.6058 - sparse_categorical_accuracy: 0.7425 - val_loss: 0.5347 - val_sparse_categorical_accuracy: 0.7741\n",
      "Epoch 4/100\n",
      "46235/46235 [==============================] - 42s 914us/step - loss: 0.4989 - sparse_categorical_accuracy: 0.7921 - val_loss: 0.4988 - val_sparse_categorical_accuracy: 0.7934\n",
      "Epoch 5/100\n",
      "46235/46235 [==============================] - 42s 908us/step - loss: 0.4260 - sparse_categorical_accuracy: 0.8258 - val_loss: 0.3971 - val_sparse_categorical_accuracy: 0.8360\n",
      "Epoch 6/100\n",
      "46235/46235 [==============================] - 42s 910us/step - loss: 0.3786 - sparse_categorical_accuracy: 0.8467 - val_loss: 0.3496 - val_sparse_categorical_accuracy: 0.8587\n",
      "Epoch 7/100\n",
      "46235/46235 [==============================] - 42s 916us/step - loss: 0.3421 - sparse_categorical_accuracy: 0.8632 - val_loss: 0.3028 - val_sparse_categorical_accuracy: 0.8819\n",
      "Epoch 8/100\n",
      "46235/46235 [==============================] - 43s 922us/step - loss: 0.3121 - sparse_categorical_accuracy: 0.8762 - val_loss: 0.3896 - val_sparse_categorical_accuracy: 0.8420\n",
      "Epoch 9/100\n",
      "46235/46235 [==============================] - 42s 912us/step - loss: 0.2874 - sparse_categorical_accuracy: 0.8862 - val_loss: 0.2570 - val_sparse_categorical_accuracy: 0.8992\n",
      "Epoch 10/100\n",
      "46235/46235 [==============================] - 42s 910us/step - loss: 0.2652 - sparse_categorical_accuracy: 0.8945 - val_loss: 0.2337 - val_sparse_categorical_accuracy: 0.9127\n",
      "Epoch 11/100\n",
      "46235/46235 [==============================] - 42s 914us/step - loss: 0.2488 - sparse_categorical_accuracy: 0.9013 - val_loss: 0.2014 - val_sparse_categorical_accuracy: 0.9244\n",
      "Epoch 12/100\n",
      "46235/46235 [==============================] - 42s 906us/step - loss: 0.2332 - sparse_categorical_accuracy: 0.9079 - val_loss: 0.2341 - val_sparse_categorical_accuracy: 0.9113\n",
      "Epoch 13/100\n",
      "46235/46235 [==============================] - 44s 951us/step - loss: 0.2184 - sparse_categorical_accuracy: 0.9140 - val_loss: 0.1675 - val_sparse_categorical_accuracy: 0.9372\n",
      "Epoch 14/100\n",
      "46235/46235 [==============================] - 44s 952us/step - loss: 0.2059 - sparse_categorical_accuracy: 0.9192 - val_loss: 0.1895 - val_sparse_categorical_accuracy: 0.9228\n",
      "Epoch 15/100\n",
      "46235/46235 [==============================] - 43s 924us/step - loss: 0.1977 - sparse_categorical_accuracy: 0.9227 - val_loss: 0.1659 - val_sparse_categorical_accuracy: 0.9360\n",
      "Epoch 16/100\n",
      "46235/46235 [==============================] - 43s 925us/step - loss: 0.1886 - sparse_categorical_accuracy: 0.9265 - val_loss: 0.1726 - val_sparse_categorical_accuracy: 0.9307\n",
      "Epoch 17/100\n",
      "46235/46235 [==============================] - 43s 939us/step - loss: 0.1814 - sparse_categorical_accuracy: 0.9293 - val_loss: 0.2481 - val_sparse_categorical_accuracy: 0.9168\n",
      "Epoch 18/100\n",
      "46235/46235 [==============================] - 42s 919us/step - loss: 0.1737 - sparse_categorical_accuracy: 0.9326 - val_loss: 0.1343 - val_sparse_categorical_accuracy: 0.9499\n",
      "Epoch 19/100\n",
      "46235/46235 [==============================] - 43s 931us/step - loss: 0.1667 - sparse_categorical_accuracy: 0.9352 - val_loss: 0.1428 - val_sparse_categorical_accuracy: 0.9439\n",
      "Epoch 20/100\n",
      "46235/46235 [==============================] - 43s 938us/step - loss: 0.1626 - sparse_categorical_accuracy: 0.9368 - val_loss: 0.1255 - val_sparse_categorical_accuracy: 0.9539\n",
      "Epoch 21/100\n",
      "46235/46235 [==============================] - 42s 913us/step - loss: 0.1561 - sparse_categorical_accuracy: 0.9394 - val_loss: 0.1463 - val_sparse_categorical_accuracy: 0.9399\n",
      "Epoch 22/100\n",
      "46235/46235 [==============================] - 40335s 872ms/step - loss: 0.1494 - sparse_categorical_accuracy: 0.9423 - val_loss: 0.1116 - val_sparse_categorical_accuracy: 0.9606\n",
      "Epoch 23/100\n",
      "46235/46235 [==============================] - 43s 928us/step - loss: 0.1448 - sparse_categorical_accuracy: 0.9441 - val_loss: 0.3620 - val_sparse_categorical_accuracy: 0.8615\n",
      "Epoch 24/100\n",
      "46235/46235 [==============================] - 41s 885us/step - loss: 0.1404 - sparse_categorical_accuracy: 0.9457 - val_loss: 0.1503 - val_sparse_categorical_accuracy: 0.9449\n",
      "Epoch 25/100\n",
      "46235/46235 [==============================] - 39s 844us/step - loss: 0.1371 - sparse_categorical_accuracy: 0.9471 - val_loss: 0.1385 - val_sparse_categorical_accuracy: 0.9555\n",
      "Epoch 26/100\n",
      "46235/46235 [==============================] - 44s 954us/step - loss: 0.1316 - sparse_categorical_accuracy: 0.9492 - val_loss: 0.1326 - val_sparse_categorical_accuracy: 0.9514\n",
      "Epoch 27/100\n",
      "46235/46235 [==============================] - 43s 925us/step - loss: 0.1280 - sparse_categorical_accuracy: 0.9510 - val_loss: 0.1235 - val_sparse_categorical_accuracy: 0.9475\n",
      "Epoch 28/100\n",
      "46235/46235 [==============================] - 40s 868us/step - loss: 0.1226 - sparse_categorical_accuracy: 0.9533 - val_loss: 0.1224 - val_sparse_categorical_accuracy: 0.9552\n",
      "Epoch 29/100\n",
      "46235/46235 [==============================] - 43s 922us/step - loss: 0.1185 - sparse_categorical_accuracy: 0.9543 - val_loss: 0.0941 - val_sparse_categorical_accuracy: 0.9645loss: 0.1187 - sparse_categorica - ETA: 3s - loss: 0.1185 - sparse_categorical_accurac - ETA: 2s - loss\n",
      "Epoch 30/100\n",
      "46235/46235 [==============================] - 41s 893us/step - loss: 0.1149 - sparse_categorical_accuracy: 0.9556 - val_loss: 0.1175 - val_sparse_categorical_accuracy: 0.9548oss: 0.1156 - sparse_categorical_accurac - ETA: 9s - loss: 0.1158 - - ETA: 1s - loss: 0.1151 - sparse_categorical_ - ETA: 0s - loss: 0.1150 - sparse_categorical_\n",
      "Epoch 31/100\n",
      "46235/46235 [==============================] - 38s 832us/step - loss: 0.1112 - sparse_categorical_accuracy: 0.9570 - val_loss: 0.1330 - val_sparse_categorical_accuracy: 0.9494tegoric - ETA: 1s - loss: 0.1113 - sparse_cat\n",
      "Epoch 32/100\n",
      "46235/46235 [==============================] - 39s 847us/step - loss: 0.1083 - sparse_categorical_accuracy: 0.9583 - val_loss: 0.1275 - val_sparse_categorical_accuracy: 0.9472 loss: 0.1098 - spa - ETA: 27s - loss: 0.1104 - sparse_categori - ETA: 14s - loss: 0.1090 - ETA: 4s - loss: 0.1083 - sparse_catego\n",
      "Epoch 33/100\n",
      "46235/46235 [==============================] - 39s 852us/step - loss: 0.1057 - sparse_categorical_accuracy: 0.9593 - val_loss: 0.0687 - val_sparse_categorical_accuracy: 0.9738\n",
      "Epoch 34/100\n",
      "46235/46235 [==============================] - 38s 827us/step - loss: 0.1018 - sparse_categorical_accuracy: 0.9609 - val_loss: 0.0873 - val_sparse_categorical_accuracy: 0.9679se_categorical_accuracy:\n",
      "Epoch 35/100\n",
      "46235/46235 [==============================] - 40s 860us/step - loss: 0.0992 - sparse_categorical_accuracy: 0.9621 - val_loss: 0.0875 - val_sparse_categorical_accuracy: 0.9667\n",
      "Epoch 36/100\n",
      "46235/46235 [==============================] - 39s 846us/step - loss: 0.0973 - sparse_categorical_accuracy: 0.9629 - val_loss: 0.0993 - val_sparse_categorical_accuracy: 0.9620 ETA: 4s - loss: 0.0972  - ETA: 2s - loss: 0.0976 - spars - ETA: 1s - loss: 0.0976 - sparse_ca\n",
      "Epoch 37/100\n",
      "46235/46235 [==============================] - 45s 964us/step - loss: 0.0953 - sparse_categorical_accuracy: 0.9639 - val_loss: 0.0895 - val_sparse_categorical_accuracy: 0.9646\n",
      "Epoch 38/100\n",
      "46235/46235 [==============================] - 39s 854us/step - loss: 0.0936 - sparse_categorical_accuracy: 0.9645 - val_loss: 0.0989 - val_sparse_categorical_accuracy: 0.9599o - ETA: 6 - ETA: 3s - loss: 0.0940 - sparse_categorical_accura\n",
      "Epoch 39/100\n",
      "46235/46235 [==============================] - 38s 832us/step - loss: 0.0913 - sparse_categorical_accuracy: 0.9656 - val_loss: 0.0853 - val_sparse_categorical_accuracy: 0.9661ccu - ETA: 1s - loss: 0.0913 - \n",
      "Epoch 40/100\n"
     ]
    },
    {
     "name": "stdout",
     "output_type": "stream",
     "text": [
      "46235/46235 [==============================] - 39s 837us/step - loss: 0.0888 - sparse_categorical_accuracy: 0.9661 - val_loss: 0.0715 - val_sparse_categorical_accuracy: 0.9750\n",
      "Epoch 41/100\n",
      "46235/46235 [==============================] - 37s 807us/step - loss: 0.0865 - sparse_categorical_accuracy: 0.9673 - val_loss: 0.1134 - val_sparse_categorical_accuracy: 0.9568\n",
      "Epoch 42/100\n",
      "46235/46235 [==============================] - 41s 882us/step - loss: 0.0850 - sparse_categorical_accuracy: 0.9680 - val_loss: 0.1044 - val_sparse_categorical_accuracy: 0.9609\n",
      "Epoch 43/100\n",
      "46235/46235 [==============================] - 56s 1ms/step - loss: 0.0837 - sparse_categorical_accuracy: 0.9680 - val_loss: 0.0646 - val_sparse_categorical_accuracy: 0.9739\n",
      "Epoch 44/100\n",
      "46235/46235 [==============================] - 64s 1ms/step - loss: 0.0812 - sparse_categorical_accuracy: 0.9693 - val_loss: 0.1087 - val_sparse_categorical_accuracy: 0.9588\n",
      "Epoch 45/100\n",
      "46235/46235 [==============================] - 66s 1ms/step - loss: 0.0800 - sparse_categorical_accuracy: 0.9698 - val_loss: 0.0680 - val_sparse_categorical_accuracy: 0.9771\n",
      "Epoch 46/100\n",
      "46235/46235 [==============================] - 50s 1ms/step - loss: 0.0789 - sparse_categorical_accuracy: 0.9701 - val_loss: 0.0558 - val_sparse_categorical_accuracy: 0.9791s: 0.0790 - sparse_categorical_accuracy\n",
      "Epoch 47/100\n",
      "46235/46235 [==============================] - 48s 1ms/step - loss: 0.0753 - sparse_categorical_accuracy: 0.9714 - val_loss: 0.0747 - val_sparse_categorical_accuracy: 0.9675 - ETA: 0s - loss: 0.0752 - sparse_categorical_accuracy: 0.9\n",
      "Epoch 48/100\n",
      "46235/46235 [==============================] - 51s 1ms/step - loss: 0.0742 - sparse_categorical_accuracy: 0.9720 - val_loss: 0.2222 - val_sparse_categorical_accuracy: 0.9259\n",
      "Epoch 49/100\n",
      "46235/46235 [==============================] - 46s 989us/step - loss: 0.0736 - sparse_categorical_accuracy: 0.9724 - val_loss: 0.0721 - val_sparse_categorical_accuracy: 0.9747- ETA: 12s - - ETA: 5s - loss: 0. - ET\n",
      "Epoch 50/100\n",
      "46235/46235 [==============================] - 46s 992us/step - loss: 0.0724 - sparse_categorical_accuracy: 0.9727 - val_loss: 0.0700 - val_sparse_categorical_accuracy: 0.9728\n",
      "Epoch 51/100\n",
      "46235/46235 [==============================] - 46s 987us/step - loss: 0.0707 - sparse_categorical_accuracy: 0.9735 - val_loss: 0.1051 - val_sparse_categorical_accuracy: 0.9576\n",
      "Epoch 52/100\n",
      "46235/46235 [==============================] - 48s 1ms/step - loss: 0.0696 - sparse_categorical_accuracy: 0.9739 - val_loss: 0.1138 - val_sparse_categorical_accuracy: 0.9545\n",
      "Epoch 53/100\n",
      "46235/46235 [==============================] - 55s 1ms/step - loss: 0.0686 - sparse_categorical_accuracy: 0.9742 - val_loss: 0.0805 - val_sparse_categorical_accuracy: 0.9715\n",
      "Epoch 54/100\n",
      "46235/46235 [==============================] - 55s 1ms/step - loss: 0.0657 - sparse_categorical_accuracy: 0.9754 - val_loss: 0.0815 - val_sparse_categorical_accuracy: 0.9673curacy: 0 - ETA: 1s - loss: 0.0658 - sparse_\n",
      "Epoch 55/100\n",
      "46235/46235 [==============================] - 55s 1ms/step - loss: 0.0658 - sparse_categorical_accuracy: 0.9753 - val_loss: 0.0496 - val_sparse_categorical_accuracy: 0.9836 - loss: 0.0664 - sparse_categoric - ETA: 9s - loss: 0.0664 - sparse_categori - ETA: 7s - loss: 0.0661 - sparse_categorical_accuracy: 0.975 - ETA: 7s - loss: 0.0661 - sparse_categorical_accuracy: 0 - ETA: 7s - loss: 0.0661 - sparse_categoric - ETA: 6s - loss: 0.\n",
      "Epoch 56/100\n",
      "46235/46235 [==============================] - 66s 1ms/step - loss: 0.0643 - sparse_categorical_accuracy: 0.9761 - val_loss: 0.0423 - val_sparse_categorical_accuracy: 0.9845cal_accur - ETA: 1s - loss: 0.06\n",
      "Epoch 57/100\n",
      "46235/46235 [==============================] - 56s 1ms/step - loss: 0.0638 - sparse_categorical_accuracy: 0.9762 - val_loss: 0.0676 - val_sparse_categorical_accuracy: 0.9750\n",
      "Epoch 58/100\n",
      "46235/46235 [==============================] - 56s 1ms/step - loss: 0.0623 - sparse_categorical_accuracy: 0.9769 - val_loss: 0.1105 - val_sparse_categorical_accuracy: 0.9607062\n",
      "Epoch 59/100\n",
      "46235/46235 [==============================] - 58s 1ms/step - loss: 0.0612 - sparse_categorical_accuracy: 0.9773 - val_loss: 0.1099 - val_sparse_categorical_accuracy: 0.9581\n",
      "Epoch 60/100\n",
      "46235/46235 [==============================] - 54s 1ms/step - loss: 0.0609 - sparse_categorical_accuracy: 0.9776 - val_loss: 0.0696 - val_sparse_categorical_accuracy: 0.9730\n",
      "Epoch 61/100\n",
      "46235/46235 [==============================] - 51s 1ms/step - loss: 0.0599 - sparse_categorical_accuracy: 0.9776 - val_loss: 0.0602 - val_sparse_categorical_accuracy: 0.9775\n",
      "Epoch 62/100\n",
      "46235/46235 [==============================] - 62s 1ms/step - loss: 0.0590 - sparse_categorical_accuracy: 0.9782 - val_loss: 0.0506 - val_sparse_categorical_accuracy: 0.9814A: 6s - loss: 0.0588 - sparse_categorical_a - ETA: 5s - loss: 0.0590 - sparse_categorical_accur - ETA - ETA: 0s - loss: 0.0591 - sparse_categor\n",
      "Epoch 63/100\n",
      "46235/46235 [==============================] - 47s 1ms/step - loss: 0.0585 - sparse_categorical_accuracy: 0.9785 - val_loss: 0.0454 - val_sparse_categorical_accuracy: 0.9846 - sparse_categorical_acc - ETA: 8s - loss: 0.0584 - sp - ETA: 7s  - ETA: 4s - loss: 0.0586 - sparse_categorical_accura - ETA: 3s -  - ETA: 0s - loss: 0.0583 - sparse_categorica\n",
      "Epoch 64/100\n",
      "46235/46235 [==============================] - 61s 1ms/step - loss: 0.0577 - sparse_categorical_accuracy: 0.9789 - val_loss: 0.0545 - val_sparse_categorical_accuracy: 0.9802\n",
      "Epoch 65/100\n",
      "46235/46235 [==============================] - 61s 1ms/step - loss: 0.0568 - sparse_categorical_accuracy: 0.9792 - val_loss: 0.0405 - val_sparse_categorical_accuracy: 0.9836\n",
      "Epoch 66/100\n",
      "46235/46235 [==============================] - 64s 1ms/step - loss: 0.0558 - sparse_categorical_accuracy: 0.9795 - val_loss: 0.0513 - val_sparse_categorical_accuracy: 0.9790\n",
      "Epoch 67/100\n",
      "46235/46235 [==============================] - 58s 1ms/step - loss: 0.0549 - sparse_categorical_accuracy: 0.9797 - val_loss: 0.0683 - val_sparse_categorical_accuracy: 0.9738\n",
      "Epoch 68/100\n",
      "46235/46235 [==============================] - 63s 1ms/step - loss: 0.0553 - sparse_categorical_accuracy: 0.9802 - val_loss: 0.0545 - val_sparse_categorical_accuracy: 0.9799arse_categorical_accu - ETA: 1s - loss: 0.0555 - sparse_categorica - ETA: 0s - loss: 0.0553 - sparse_categorical_accuracy: \n",
      "Epoch 69/100\n",
      "46235/46235 [==============================] - 56s 1ms/step - loss: 0.0538 - sparse_categorical_accuracy: 0.9806 - val_loss: 0.0428 - val_sparse_categorical_accuracy: 0.9861orical_accuracy: 0. - ETA: 5s - loss: 0.0540 - sparse_categ - ETA: 4s - loss: 0\n",
      "Epoch 70/100\n",
      "46235/46235 [==============================] - 60s 1ms/step - loss: 0.0533 - sparse_categorical_accuracy: 0.9808 - val_loss: 0.0455 - val_sparse_categorical_accuracy: 0.9821egorical_accura - ETA: 11s - loss: 0.0536 - sparse_ca - ETA: 10s - loss: 0.0536 - - ETA: 6s - loss: 0.0536 - s\n",
      "Epoch 71/100\n",
      "46235/46235 [==============================] - 57s 1ms/step - loss: 0.0526 - sparse_categorical_accuracy: 0.9812 - val_loss: 0.0729 - val_sparse_categorical_accuracy: 0.9721cal_accuracy: 0 - ETA: 0s - loss: 0.0529 - sparse_categorical - ETA: 0s - loss: 0.0527 - sparse_categorical_accuracy: 0.981 - ETA: 0s - loss: 0.0527 - sparse_categorical_accuracy: \n",
      "Epoch 72/100\n",
      "46235/46235 [==============================] - 62s 1ms/step - loss: 0.0526 - sparse_categorical_accuracy: 0.9810 - val_loss: 0.0403 - val_sparse_categorical_accuracy: 0.9864\n",
      "Epoch 73/100\n",
      "46235/46235 [==============================] - 49s 1ms/step - loss: 0.0518 - sparse_categorical_accuracy: 0.9810 - val_loss: 0.0494 - val_sparse_categorical_accuracy: 0.9843\n",
      "Epoch 74/100\n",
      "46235/46235 [==============================] - 59s 1ms/step - loss: 0.0515 - sparse_categorical_accuracy: 0.9815 - val_loss: 0.0605 - val_sparse_categorical_accuracy: 0.9757\n",
      "Epoch 75/100\n",
      "46235/46235 [==============================] - 62s 1ms/step - loss: 0.0508 - sparse_categorical_accuracy: 0.9818 - val_loss: 0.0472 - val_sparse_categorical_accuracy: 0.9830\n",
      "Epoch 76/100\n"
     ]
    },
    {
     "name": "stdout",
     "output_type": "stream",
     "text": [
      "46235/46235 [==============================] - 52s 1ms/step - loss: 0.0501 - sparse_categorical_accuracy: 0.9823 - val_loss: 0.0322 - val_sparse_categorical_accuracy: 0.9883 - ETA: 2s - loss: 0.0503 - sparse_categorical_accurac - ETA: 2s - loss: 0.0503 - sp - ETA: 0s - loss: 0.0501 - sparse_categorical_accuracy\n",
      "Epoch 77/100\n",
      "46235/46235 [==============================] - 109s 2ms/step - loss: 0.0489 - sparse_categorical_accuracy: 0.9825 - val_loss: 0.0422 - val_sparse_categorical_accuracy: 0.9858\n",
      "Epoch 78/100\n",
      "46235/46235 [==============================] - 115s 2ms/step - loss: 0.0490 - sparse_categorical_accuracy: 0.9824 - val_loss: 0.0341 - val_sparse_categorical_accuracy: 0.9877\n",
      "Epoch 79/100\n",
      "46235/46235 [==============================] - 104s 2ms/step - loss: 0.0485 - sparse_categorical_accuracy: 0.9828 - val_loss: 0.0382 - val_sparse_categorical_accuracy: 0.9863\n",
      "Epoch 80/100\n",
      "46235/46235 [==============================] - 104s 2ms/step - loss: 0.0477 - sparse_categorical_accuracy: 0.9830 - val_loss: 0.0444 - val_sparse_categorical_accuracy: 0.9849\n",
      "Epoch 81/100\n",
      "46235/46235 [==============================] - 100s 2ms/step - loss: 0.0474 - sparse_categorical_accuracy: 0.9831 - val_loss: 0.0411 - val_sparse_categorical_accuracy: 0.9858\n",
      "Epoch 82/100\n",
      "46235/46235 [==============================] - 102s 2ms/step - loss: 0.0464 - sparse_categorical_accuracy: 0.9833 - val_loss: 0.0419 - val_sparse_categorical_accuracy: 0.9866\n",
      "Epoch 83/100\n",
      "46235/46235 [==============================] - 103s 2ms/step - loss: 0.0464 - sparse_categorical_accuracy: 0.9836 - val_loss: 0.0629 - val_sparse_categorical_accuracy: 0.9781\n",
      "Epoch 84/100\n",
      "46235/46235 [==============================] - 104s 2ms/step - loss: 0.0469 - sparse_categorical_accuracy: 0.9835 - val_loss: 0.0354 - val_sparse_categorical_accuracy: 0.9874\n",
      "Epoch 85/100\n",
      "46235/46235 [==============================] - 87s 2ms/step - loss: 0.0450 - sparse_categorical_accuracy: 0.9840 - val_loss: 0.0471 - val_sparse_categorical_accuracy: 0.9849\n",
      "Epoch 86/100\n",
      "46235/46235 [==============================] - 50s 1ms/step - loss: 0.0452 - sparse_categorical_accuracy: 0.9838 - val_loss: 0.0524 - val_sparse_categorical_accuracy: 0.9808\n",
      "Epoch 87/100\n",
      "46235/46235 [==============================] - 50s 1ms/step - loss: 0.0446 - sparse_categorical_accuracy: 0.9842 - val_loss: 0.0294 - val_sparse_categorical_accuracy: 0.9904\n",
      "Epoch 88/100\n",
      "46235/46235 [==============================] - 49s 1ms/step - loss: 0.0440 - sparse_categorical_accuracy: 0.9846 - val_loss: 0.0432 - val_sparse_categorical_accuracy: 0.9826\n",
      "Epoch 89/100\n",
      "46235/46235 [==============================] - 50s 1ms/step - loss: 0.0437 - sparse_categorical_accuracy: 0.9846 - val_loss: 0.0560 - val_sparse_categorical_accuracy: 0.9781\n",
      "Epoch 90/100\n",
      "46235/46235 [==============================] - 50s 1ms/step - loss: 0.0433 - sparse_categorical_accuracy: 0.9849 - val_loss: 0.0435 - val_sparse_categorical_accuracy: 0.9827\n",
      "Epoch 91/100\n",
      "46235/46235 [==============================] - 50s 1ms/step - loss: 0.0428 - sparse_categorical_accuracy: 0.9847 - val_loss: 0.0312 - val_sparse_categorical_accuracy: 0.9889\n",
      "Epoch 92/100\n",
      "46235/46235 [==============================] - 50s 1ms/step - loss: 0.0429 - sparse_categorical_accuracy: 0.9848 - val_loss: 0.0302 - val_sparse_categorical_accuracy: 0.9900\n",
      "Epoch 93/100\n",
      "46235/46235 [==============================] - 50s 1ms/step - loss: 0.0419 - sparse_categorical_accuracy: 0.9852 - val_loss: 0.0281 - val_sparse_categorical_accuracy: 0.9901\n",
      "Epoch 94/100\n",
      "46235/46235 [==============================] - 50s 1ms/step - loss: 0.0421 - sparse_categorical_accuracy: 0.9856 - val_loss: 0.0915 - val_sparse_categorical_accuracy: 0.9716\n",
      "Epoch 95/100\n",
      "46235/46235 [==============================] - 52s 1ms/step - loss: 0.0411 - sparse_categorical_accuracy: 0.9855 - val_loss: 0.0327 - val_sparse_categorical_accuracy: 0.9878\n",
      "Epoch 96/100\n",
      "46235/46235 [==============================] - 50s 1ms/step - loss: 0.0413 - sparse_categorical_accuracy: 0.9855 - val_loss: 0.0464 - val_sparse_categorical_accuracy: 0.9825\n",
      "Epoch 97/100\n",
      "46235/46235 [==============================] - 51s 1ms/step - loss: 0.0402 - sparse_categorical_accuracy: 0.9859 - val_loss: 0.0502 - val_sparse_categorical_accuracy: 0.9802\n",
      "Epoch 98/100\n",
      "46235/46235 [==============================] - 50s 1ms/step - loss: 0.0394 - sparse_categorical_accuracy: 0.9861 - val_loss: 0.0403 - val_sparse_categorical_accuracy: 0.9852\n",
      "Epoch 99/100\n",
      "46235/46235 [==============================] - 50s 1ms/step - loss: 0.0396 - sparse_categorical_accuracy: 0.9858 - val_loss: 0.0272 - val_sparse_categorical_accuracy: 0.9918\n",
      "Epoch 100/100\n",
      "46235/46235 [==============================] - 78s 2ms/step - loss: 0.0395 - sparse_categorical_accuracy: 0.9862 - val_loss: 0.0274 - val_sparse_categorical_accuracy: 0.9914\n"
     ]
    }
   ],
   "source": [
    "epochs = 100\n",
    "batch_size = 10\n",
    "\n",
    "callbacks = [\n",
    "    keras.callbacks.ModelCheckpoint(\n",
    "        \"best_model.h5\", save_best_only=True, monitor=\"val_loss\"\n",
    "    ),\n",
    "    keras.callbacks.ReduceLROnPlateau(\n",
    "        monitor=\"val_loss\", factor=0.5, patience=20, min_lr=0.0001\n",
    "    ),\n",
    "    keras.callbacks.EarlyStopping(monitor=\"val_loss\", patience=50, verbose=1),\n",
    "]\n",
    "\n",
    "history = model.fit(\n",
    "    X_train,\n",
    "    y_train,\n",
    "    batch_size=batch_size,\n",
    "    epochs=epochs,\n",
    "    callbacks=callbacks,\n",
    "    validation_data=(X_test, y_test),\n",
    "    verbose=1\n",
    ")"
   ]
  },
  {
   "cell_type": "markdown",
   "id": "e1247e8d",
   "metadata": {},
   "source": [
    "Now let's evaluate the best of the trained models."
   ]
  },
  {
   "cell_type": "code",
   "execution_count": 8,
   "id": "553b099a",
   "metadata": {},
   "outputs": [
    {
     "name": "stdout",
     "output_type": "stream",
     "text": [
      "4817/4817 [==============================] - 3s 530us/step - loss: 0.0272 - sparse_categorical_accuracy: 0.9918\n",
      "Test accuracy 0.9917917847633362\n",
      "Test loss 0.027158737182617188\n"
     ]
    }
   ],
   "source": [
    "model = keras.models.load_model(\"best_model.h5\")\n",
    "\n",
    "test_loss, test_acc = model.evaluate(X_test, y_test)\n",
    "\n",
    "print(\"Test accuracy\", test_acc)\n",
    "print(\"Test loss\", test_loss)"
   ]
  },
  {
   "cell_type": "markdown",
   "id": "af606eb7",
   "metadata": {},
   "source": [
    "And plot the history of training."
   ]
  },
  {
   "cell_type": "code",
   "execution_count": 9,
   "id": "e1548e5b",
   "metadata": {},
   "outputs": [
    {
     "data": {
      "image/png": "[encoded data removed]",
      "text/plain": [
       "<Figure size 432x288 with 1 Axes>"
      ]
     },
     "metadata": {
      "needs_background": "light"
     },
     "output_type": "display_data"
    }
   ],
   "source": [
    "metric = \"sparse_categorical_accuracy\"\n",
    "plt.figure()\n",
    "plt.plot(history.history[metric])\n",
    "plt.plot(history.history[\"val_\" + metric])\n",
    "plt.title(\"model \" + metric)\n",
    "plt.ylabel(metric, fontsize=\"large\")\n",
    "plt.xlabel(\"epoch\", fontsize=\"large\")\n",
    "plt.legend([\"train\", \"val\"], loc=\"best\")\n",
    "plt.show()\n",
    "plt.close()"
   ]
  },
  {
   "cell_type": "code",
   "execution_count": null,
   "id": "d9a9f5b8",
   "metadata": {},
   "outputs": [],
   "source": []
  }
 ],
 "metadata": {
  "kernelspec": {
   "display_name": "Python 3 (ipykernel)",
   "language": "python",
   "name": "python3"
  },
  "language_info": {
   "codemirror_mode": {
    "name": "ipython",
    "version": 3
   },
   "file_extension": ".py",
   "mimetype": "text/x-python",
   "name": "python",
   "nbconvert_exporter": "python",
   "pygments_lexer": "ipython3",
   "version": "3.9.7"
  }
 },
 "nbformat": 4,
 "nbformat_minor": 5
}
